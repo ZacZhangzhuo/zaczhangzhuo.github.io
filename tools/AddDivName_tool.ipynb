{
 "cells": [
  {
   "cell_type": "markdown",
   "metadata": {},
   "source": [
    "Only for development."
   ]
  },
  {
   "cell_type": "code",
   "execution_count": 32,
   "metadata": {},
   "outputs": [],
   "source": [
    "\n",
    "location = r\"C:/Zac/GitHub/ZacZhangzhuo.github.io/zLife/zLife.html\"\n",
    "\n",
    "html = open(location, \"r\", encoding=\"utf-8\")\n",
    "htmlTexts = html.read()\n",
    "\n",
    "\n",
    "pre, theTexts = htmlTexts.split(\"<!--! ADD NEW ARTICLE HERE -->\", 1)\n",
    "\n",
    "texts = theTexts.split(\"<a\")\n",
    "\n",
    "\n",
    "result = pre + \"<!--! ADD NEW ARTICLE HERE -->\" +texts[0]\n",
    "for i in range(1, len(texts)):\n",
    "\n",
    "    t= texts[i].replace('class=\"items\"','class = \"item_image\"', 1)\n",
    "    \n",
    "    #!   !!!!!!!\n",
    "    text = t.split('.html')[0].split('=\"')[-1]\n",
    "    # text = t.split('.html')[0].split('\\\\')[-1]\n",
    "\n",
    "    # print  (t)\n",
    "    tt = '<p class = \"item_name\">' + text + '</p></a></div'\n",
    "    # print (\"xxxxxxxxxxxxxx\" +tt)\n",
    "    t = t.replace('</a',tt )\n",
    "    # print (t)\n",
    "\n",
    "    result =result+  '<div class = \"item\"> <a'+t\n",
    "\n",
    "# print(result)\n",
    "\n",
    "with open(location, \"w\",encoding='UTF-8') as html:\n",
    "    html.write(result)\n",
    "\n"
   ]
  }
 ],
 "metadata": {
  "kernelspec": {
   "display_name": "Python 3.11.0 64-bit",
   "language": "python",
   "name": "python3"
  },
  "language_info": {
   "codemirror_mode": {
    "name": "ipython",
    "version": 3
   },
   "file_extension": ".py",
   "mimetype": "text/x-python",
   "name": "python",
   "nbconvert_exporter": "python",
   "pygments_lexer": "ipython3",
   "version": "3.11.0"
  },
  "orig_nbformat": 4,
  "vscode": {
   "interpreter": {
    "hash": "8c3baee22f7aea24140d8527738ad3288fd74ddfe4eeddd8ce2c2f5be318de5e"
   }
  }
 },
 "nbformat": 4,
 "nbformat_minor": 2
}
