{
 "cells": [
  {
   "cell_type": "markdown",
   "metadata": {},
   "source": [
    "# Diary Updater"
   ]
  },
  {
   "cell_type": "markdown",
   "metadata": {},
   "source": [
    "## Initialization\n",
    "    This is the integrated update note book of the website: ArchZ (https:\\\\zaczhangzhuo.github.io\\)\n",
    "    Credit: Zac Zhuo Zhang\n",
    "\n",
    "**Agreements:**\n",
    "- File structure: \n",
    "    - tools\n",
    "        - DiaryUpdater.ipynb\n",
    "    - zLife\n",
    "        - images\n",
    "          - image1.jpg\n",
    "          - image2.jpg \n",
    "          - ...\n",
    "        - Diary1.md\n",
    "        - Diary2.md\n",
    "        - ...\n",
    "        - (All the generated html files will be in this folder as well.)\n",
    "    - the .csv file can be anywhere, and should be specified below.\n",
    "- Use \\ rather than / \n",
    "- Avoid using space in any name.\n",
    "- The first images of the .md file will be the profile of the article in the menu.\n",
    "- Only read the first two layers of the files. deep files can be used as backups.\n",
    "- In case overwriting, the .md that has been generated, with the same name,  will be ignored."
   ]
  },
  {
   "cell_type": "code",
   "execution_count": 5,
   "metadata": {},
   "outputs": [
    {
     "data": {
      "application/vnd.jupyter.widget-view+json": {
       "model_id": "2ae95d6cc3044299a521c660f15b014d",
       "version_major": 2,
       "version_minor": 0
      },
      "text/plain": [
       "ToggleButtons(button_style='info', description='ChangeUpdateDiary', index=1, options=(True, False), tooltips=(…"
      ]
     },
     "metadata": {},
     "output_type": "display_data"
    },
    {
     "data": {
      "application/vnd.jupyter.widget-view+json": {
       "model_id": "708795f4c47b461da3e20e90a824411b",
       "version_major": 2,
       "version_minor": 0
      },
      "text/plain": [
       "Textarea(value='', description='CSVDirDisplay:', placeholder='C:\\\\Zac\\\\GitHub\\\\ZacZhangzhuo.github.io\\\\zLife\\\\…"
      ]
     },
     "metadata": {},
     "output_type": "display_data"
    }
   ],
   "source": [
    "#! Imports\n",
    "import os\n",
    "import markdown\n",
    "import math\n",
    "import ipywidgets as widgets\n",
    "import pandas as pd\n",
    "\n",
    "ChangeUpdateDiary = widgets.ToggleButtons(\n",
    "    options=[True, False],\n",
    "    description=\"ChangeUpdateDiary\",\n",
    "    value=False,\n",
    "    disabled=False,\n",
    "    button_style=\"info\",  # 'success', 'info', 'warning', 'danger' or ''\n",
    "    tooltips=[\"Click true if you want to update the diary.\", \"False\"],\n",
    ")\n",
    "display(ChangeUpdateDiary)\n",
    "\n",
    "CSVDirDisplay   =  widgets.Textarea(\n",
    "    value='',\n",
    "    placeholder=r'C:\\Zac\\GitHub\\ZacZhangzhuo.github.io\\zLife\\Dida-backup-2023-03-07.csv',\n",
    "    description='CSVDirDisplay:',\n",
    "    disabled=False\n",
    ")\n",
    "\n",
    "display(CSVDirDisplay)\n"
   ]
  },
  {
   "cell_type": "code",
   "execution_count": 28,
   "metadata": {},
   "outputs": [
    {
     "name": "stdout",
     "output_type": "stream",
     "text": [
      "C:\\Zac\\GitHub\\ZacZhangzhuo.github.io\\zLife\\Dida-backup-2023-03-07.csv\n"
     ]
    }
   ],
   "source": [
    "UpdateDiary = ChangeUpdateDiary.value\n",
    "CSVDir = CSVDirDisplay.value\n",
    "\n",
    "\n",
    "#! Debug only\n",
    "CSVDir = r'C:\\Zac\\GitHub\\ZacZhangzhuo.github.io\\zLife\\Dida-backup-2023-03-07.csv'\n",
    "print(CSVDir)\n"
   ]
  },
  {
   "cell_type": "code",
   "execution_count": 61,
   "metadata": {},
   "outputs": [],
   "source": [
    "# def MDWriter(mdLocation):\n",
    "#     # Get image paths and write .md\n",
    "#     imagePaths = []\n",
    "#     MDtexts = \"# \" + mdLocation.split(\"\\\\\")[-1] + \"\\n\\n\"\n",
    "#     for i in os.listdir(mdLocation + \"\\\\images\"):\n",
    "#         if i.endswith((\".jpg\", \".png\", \".jpeg\")):\n",
    "#             imagePaths.append(\"\\\\images\\\\\" + i)\n",
    "#             MDtexts = MDtexts + \"![images](\" + \"images/\" + i + \")\\n\\n\"\n",
    "#     # TODO\n",
    "\n",
    "#     if os.path.exists(mdLocation + \"\\\\\" + mdLocation.split(\"\\\\\")[-1] + \".md\") != True:\n",
    "#         with open(\n",
    "#             mdLocation + \"\\\\\" + mdLocation.split(\"\\\\\")[-1] + \".md\",\n",
    "#             \"w\",\n",
    "#             encoding=\"UTF-8\",\n",
    "#         ) as md:\n",
    "#             md.write(MDtexts)\n",
    "#         FromMDWriteHTML(mdLocation + \"\\\\\" + mdLocation.split(\"\\\\\")[-1] + \".md\", zPhotographerPath)\n",
    "\n",
    "\n",
    "def MDWriter(mdDir, mdName, mdTexts):\n",
    "    # Get image paths\n",
    "    mdLocation = mdDir + \"\\\\\" + mdName\n",
    "    texts = mdTexts.split(\"![image](\")\n",
    "    mdTexts = texts[0]\n",
    "    if len(texts) > 1:\n",
    "        for i in range(1, len(texts)):\n",
    "            [t1, t2] = texts[i].split(\"/\", 1)\n",
    "            [t3, t4] = t2.split(\".\", 1)\n",
    "\n",
    "            imagePath = r\"images\\\\\" + t1 + \".\" + t4 \n",
    "            # print(mdDir+imagePath.split(')')[0])\n",
    "            if (os.path.isfile(mdDir+imagePath.split(')')[0]) == False):\n",
    "                print(\"WARN!!! :There is image(s) not found in: \"+ mdName)\n",
    "            mdTexts = mdTexts + \"\\n\\n![image](\" +imagePath + \"\\n\\n\"\n",
    "\n",
    "    if os.path.exists(mdLocation + \".md\") == False:\n",
    "        with open(\n",
    "            mdLocation + \".md\",\n",
    "            \"w\",\n",
    "            encoding=\"UTF-8\",\n",
    "        ) as md:\n",
    "            md.write(mdTexts)\n"
   ]
  },
  {
   "cell_type": "code",
   "execution_count": 62,
   "metadata": {},
   "outputs": [
    {
     "name": "stdout",
     "output_type": "stream",
     "text": [
      "WARN!!! :There is image(s) not found in: 11月16日 周三 晴 苏黎世\n"
     ]
    }
   ],
   "source": [
    "data = pd.read_csv(filepath_or_buffer=CSVDir, skiprows=3)\n",
    "\n",
    "\n",
    "# Write .md\n",
    "for label, row in data.iterrows():\n",
    "    if row[\"List Name\"] == \"日记\":\n",
    "        mdText =  \"# \" +row[\"Title\"]+ \"\\n\\n\"+row[\"Content\"]+\"\\n\\n\"\n",
    "        MDWriter(r\"..\\\\zLife\\\\\",  row[\"Title\"], mdText)\n"
   ]
  },
  {
   "cell_type": "code",
   "execution_count": 60,
   "metadata": {},
   "outputs": [
    {
     "name": "stdout",
     "output_type": "stream",
     "text": [
      "True\n",
      "..\\zLife\\images\\9_MASdfab_3DPrintingArchitecture_2022-11-16-09-51-18.png\n"
     ]
    }
   ],
   "source": [
    "x = \"..\\\\zLife\\\\\"+r\"images\\9_MASdfab_3DPrintingArchitecture_2022-11-16-09-51-18.png\"\n",
    "# x = \"C:\\Zac\\GitHub\\ZacZhangzhuo.github.io\\zLife\\images\\63b4bde251f840eb4cb9df1e.jpg\"\n",
    "# x = r\"C:\\Zac\\GitHub\\ZacZhangzhuo.github.io\\tools\\DiaryUpdater.ipynb\"\n",
    "x = str(x)\n",
    "print(os.path.isfile(x))\n",
    "print(x)"
   ]
  }
 ],
 "metadata": {
  "kernelspec": {
   "display_name": "Python 3 (ipykernel)",
   "language": "python",
   "name": "python3"
  },
  "language_info": {
   "codemirror_mode": {
    "name": "ipython",
    "version": 3
   },
   "file_extension": ".py",
   "mimetype": "text/x-python",
   "name": "python",
   "nbconvert_exporter": "python",
   "pygments_lexer": "ipython3",
   "version": "3.11.0"
  },
  "vscode": {
   "interpreter": {
    "hash": "8c3baee22f7aea24140d8527738ad3288fd74ddfe4eeddd8ce2c2f5be318de5e"
   }
  }
 },
 "nbformat": 4,
 "nbformat_minor": 2
}
