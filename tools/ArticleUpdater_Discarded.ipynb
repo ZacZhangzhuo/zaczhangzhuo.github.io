{
 "cells": [
  {
   "cell_type": "code",
   "execution_count": 20,
   "metadata": {},
   "outputs": [],
   "source": [
    "import os\n",
    "import markdown\n",
    "from bs4 import BeautifulSoup\n",
    "from shutil import copyfile\n",
    "import ipywidgets as widgets\n",
    "MenuBarDir = [\n",
    "    \"..\\zHome.html\",\n",
    "    \"..\\zDesigner\\zDesigner.html\",\n",
    "    \"..\\zLearner\\zLearner.html\",\n",
    "    \"..\\zWriter\\zWriter.html\",\n",
    "    \"..\\zPhotographer\\zPhotographer.html\",\n",
    "    \"..\\zIndividualDeveloper\\zIndividualDeveloper.html\",\n",
    "    \"..\\zCV.html\",\n",
    "    \"..\\zSkills.html\",\n",
    "    \"..\\zContact.html\",\n",
    "]\n",
    "MDNoteBookDir = [r'C:\\Zac\\GitHub\\Notes\\7_MASdfab_Endless Wall.md']\n",
    "MDExportPath = r\"..\\zLearner\""
   ]
  },
  {
   "cell_type": "code",
   "execution_count": 23,
   "metadata": {},
   "outputs": [],
   "source": [
    "def AddMenuBar(htmlPath):\n",
    "    barText = '<!-- Menu Bar --><div class=\"menuBar\">'\n",
    "\n",
    "    for MenuBar in MenuBarDir:\n",
    "        barText = (\n",
    "            barText\n",
    "            + '<a href=\"'\n",
    "            + os.path.relpath(MenuBar, htmlPath)[3:]\n",
    "            + ' \" class=\"menuBar\"> <p>'\n",
    "            + MenuBar.split(\"\\\\\")[-1].replace(\".html\", \"\")\n",
    "            + \"</p></a>\"\n",
    "        )\n",
    "    \n",
    "\n",
    "    barText = barText + \"</div><!-- End of Menu Bar -->\"\n",
    "\n",
    "    # Modifying the file\n",
    "    with open(htmlPath, \"r\", encoding=\"UTF-8\") as html:\n",
    "        htmlTexts = html.read()\n",
    "    temp = htmlTexts.split(\"<!-- Menu Bar -->\")\n",
    "\n",
    "    if len(temp) == 2:\n",
    "        temp1 = temp[0]\n",
    "        temp2 = temp[1]\n",
    "        temp3 = temp2.split(\"<!-- End of Menu Bar -->\")[1]\n",
    "\n",
    "        htmlTexts = temp1 + barText + temp3\n",
    "        with open(htmlPath, \"w\", encoding=\"UTF-8\") as html:\n",
    "            html.write(htmlTexts)\n",
    "        print(\"z: MENU BAR OF THIS FILE HAS BEEN MODIFIED:\" + htmlPath)\n"
   ]
  },
  {
   "cell_type": "code",
   "execution_count": 25,
   "metadata": {},
   "outputs": [
    {
     "name": "stdout",
     "output_type": "stream",
     "text": [
      "z: MENU BAR OF THIS FILE HAS BEEN MODIFIED:..\\zLearner\\7_MASdfab_Endless Wall\\7_MASdfab_Endless Wall.html\n",
      "z:THIS .HTML FILE HAS BEEN GENERATED&MODIFIED:..\\zLearner\\7_MASdfab_Endless Wall\\7_MASdfab_Endless Wall.html\n"
     ]
    }
   ],
   "source": [
    "def MDTexts(mdstr, title):\n",
    "    exts = [\n",
    "        \"extra\",\n",
    "        \"codehilite\",\n",
    "        \"tables\",\n",
    "        \"toc\",\n",
    "        'markdown_checklist.extension'\n",
    "    ]\n",
    "\n",
    "    html = (\n",
    "        \"\"\"\n",
    "        <!DOCTYPE html>\n",
    "    <html lang=\"en\">\n",
    "    <head>\n",
    "    <meta http-equiv=\"X-UA-Compatible\" content=\"IE=edge\"/>\n",
    "    <link rel=\"stylesheet\" href=\"..\\..\\zMarkdownStyles.css\" />\n",
    "    <meta name=\"viewport\" content=\"width=device-width, initial-scale=1.0\"/>\n",
    "    <title>\n",
    "    \"\"\"\n",
    "        + title\n",
    "        + \"\"\"\n",
    "    </title>\n",
    "    <link\n",
    "        href=\"https://fonts.googleapis.com/css2?family=Source+Code+Pro:ital,wght@0,200;0,300;0,400;0,500;0,600;0,700;0,800;0,900;1,200;1,300;1,500;1,600;1,700;1,800;1,900&display=swap\"\n",
    "        rel=\"stylesheet\"\n",
    "    />\n",
    "    <link rel=\"icon\" href=\"../../resources/LogoIcon.png\" type=\"image/x-icon\"/>\n",
    "    </head>\n",
    "    <body><!-- Menu Bar -->\n",
    "<!-- End of Menu Bar -->\n",
    "    %s\n",
    "    <p class=\"endnotes\">--- Growing, Growing, Brighter Everyday ! ---</p></body>\n",
    "    </html>\n",
    "    \"\"\"\n",
    "    )\n",
    "\n",
    "    ret = markdown.markdown(mdstr, extensions=exts)\n",
    "    return html % ret\n",
    "\n",
    "\n",
    "for d in MDNoteBookDir:\n",
    "    with open(d, 'r', encoding='UTF-8') as md:\n",
    "        mdTexts = md.read()\n",
    "    \n",
    "    # Copy all the needed images\n",
    "    # from shutil import copyfile\n",
    "    \n",
    "    if (os.path.exists(MDExportPath+'\\\\'+d.split('\\\\' )[-1].split('.')[0]) != True): \n",
    "        os.makedirs(MDExportPath+'\\\\'+d.split('\\\\' )[-1].split('.')[0])\n",
    "    \n",
    "    with open(MDExportPath+'\\\\'+d.split('\\\\' )[-1].split('.')[0]+'\\\\'+d.split('\\\\' )[-1].split('.')[0]+'.html', \"w\",encoding='UTF-8') as html:\n",
    "        html.write(MDTexts(mdTexts, d.split(\"\\\\\")[-1]))\n",
    "    \n",
    "    with open(MDExportPath+'\\\\'+d.split('\\\\' )[-1].split('.')[0]+'\\\\'+d.split('\\\\' )[-1].split('.')[0]+'.html', \"r\",encoding='UTF-8') as html:\n",
    "        soup = BeautifulSoup(html, features='html.parser')\n",
    "    \n",
    "    for img in soup.find_all('img'):\n",
    "        if (os.path.exists(MDExportPath+'\\\\'+d.split('\\\\' )[-1].split('.')[0]+'\\\\'+img.get('src').replace(img.get('src').split('/' )[-1], '')) != True): os.makedirs(MDExportPath+'\\\\'+d.split('\\\\' )[-1].split('.')[0]+'\\\\'+img.get('src').replace(img.get('src').split('/' )[-1], ''))\n",
    "        copyfile(d.replace(d.split('\\\\' )[-1], '')+ '\\\\' + img.get('src'), MDExportPath+'\\\\'+d.split('\\\\' )[-1].split('.')[0]+'\\\\'+img.get('src'))\n",
    "    \n",
    "    if (os.path.exists(MDExportPath+'\\\\'+d.split('\\\\' )[-1].split('.')[0]+'\\\\images') != True): os.makedirs(MDExportPath+'\\\\'+d.split('\\\\' )[-1].split('.')[0]+'\\\\images')\n",
    "    AddMenuBar(MDExportPath+'\\\\'+d.split('\\\\' )[-1].split('.')[0]+'\\\\'+d.split('\\\\' )[-1].split('.')[0]+'.html')\n",
    "    print ( 'z:THIS .HTML FILE HAS BEEN GENERATED&MODIFIED:' + MDExportPath+'\\\\'+d.split('\\\\' )[-1].split('.')[0]+'\\\\'+d.split('\\\\' )[-1].split('.')[0]+'.html')\n",
    "    \n",
    "\n"
   ]
  }
 ],
 "metadata": {
  "kernelspec": {
   "display_name": "Python 3.11.0 64-bit",
   "language": "python",
   "name": "python3"
  },
  "language_info": {
   "codemirror_mode": {
    "name": "ipython",
    "version": 3
   },
   "file_extension": ".py",
   "mimetype": "text/x-python",
   "name": "python",
   "nbconvert_exporter": "python",
   "pygments_lexer": "ipython3",
   "version": "3.11.0 (main, Oct 24 2022, 18:26:48) [MSC v.1933 64 bit (AMD64)]"
  },
  "orig_nbformat": 4,
  "vscode": {
   "interpreter": {
    "hash": "8c3baee22f7aea24140d8527738ad3288fd74ddfe4eeddd8ce2c2f5be318de5e"
   }
  }
 },
 "nbformat": 4,
 "nbformat_minor": 2
}
