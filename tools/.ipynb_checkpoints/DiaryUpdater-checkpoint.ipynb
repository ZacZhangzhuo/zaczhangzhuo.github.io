{
 "cells": [
  {
   "cell_type": "markdown",
   "metadata": {},
   "source": [
    "# Diary Updater"
   ]
  },
  {
   "cell_type": "markdown",
   "metadata": {},
   "source": [
    "## Initialization\n",
    "    This is the integrated update note book of the website: ArchZ (https:\\\\zaczhangzhuo.github.io\\)\n",
    "    Credit: Zac Zhuo Zhang\n",
    "\n",
    "**Agreements:**\n",
    "- File structure: \n",
    "    - tools\n",
    "        - DiaryUpdater.ipynb\n",
    "    - zLife\n",
    "        - images\n",
    "          - image1.jpg\n",
    "          - image2.jpg \n",
    "          - ...\n",
    "        - Diary1.md\n",
    "        - Diary2.md\n",
    "        - ...\n",
    "        - (All the generated html files will be in this folder as well.)\n",
    "    - the .csv file can be anywhere, and should be specified below.\n",
    "- Use \\ rather than / \n",
    "- Avoid using space in any name.\n",
    "- The first images of the .md file will be the profile of the article in the menu.\n",
    "- Only read the first two layers of the files. deep files can be used as backups.\n",
    "- In case overwriting, the .md that has been generated, with the same name,  will be ignored."
   ]
  },
  {
   "cell_type": "code",
   "execution_count": 4,
   "metadata": {},
   "outputs": [
    {
     "data": {
      "application/vnd.jupyter.widget-view+json": {
       "model_id": "6ba0313d3f5a4afbbc4d552c272b56c3",
       "version_major": 2,
       "version_minor": 0
      },
      "text/plain": [
       "ToggleButtons(button_style='info', description='ChangeUpdateDiary', index=1, options=(True, False), tooltips=(…"
      ]
     },
     "metadata": {},
     "output_type": "display_data"
    },
    {
     "data": {
      "application/vnd.jupyter.widget-view+json": {
       "model_id": "59b8e95fd787427bbeccfebc9885fbd8",
       "version_major": 2,
       "version_minor": 0
      },
      "text/plain": [
       "Textarea(value='', description='CSVDirDisplay:', placeholder='C:\\\\Zac\\\\GitHub\\\\ZacZhangzhuo.github.io\\\\zLife\\\\…"
      ]
     },
     "metadata": {},
     "output_type": "display_data"
    }
   ],
   "source": [
    "#! Imports\n",
    "import os\n",
    "import markdown\n",
    "import math\n",
    "import ipywidgets as widgets\n",
    "\n",
    "ChangeUpdateDiary = widgets.ToggleButtons(\n",
    "    options=[True, False],\n",
    "    description=\"ChangeUpdateDiary\",\n",
    "    value=False,\n",
    "    disabled=False,\n",
    "    button_style=\"info\",  # 'success', 'info', 'warning', 'danger' or ''\n",
    "    tooltips=[\"Click true if you want to update the diary.\", \"False\"],\n",
    ")\n",
    "display(ChangeUpdateDiary)\n",
    "\n",
    "CSVDirDisplay   =  widgets.Textarea(\n",
    "    value='',\n",
    "    placeholder=r'C:\\Zac\\GitHub\\ZacZhangzhuo.github.io\\zLife\\Dida-backup-2023-03-06.csv',\n",
    "    description='CSVDirDisplay:',\n",
    "    disabled=False\n",
    ")\n",
    "\n",
    "display(CSVDirDisplay)\n"
   ]
  },
  {
   "cell_type": "code",
   "execution_count": 5,
   "metadata": {},
   "outputs": [
    {
     "name": "stdout",
     "output_type": "stream",
     "text": [
      "C:\\Zac\\GitHub\\ZacZhangzhuo.github.io\\zLife\n"
     ]
    }
   ],
   "source": [
    "UpdateDiary = ChangeUpdateDiary.value\n",
    "CSVDir = CSVDirDisplay.value\n",
    "\n",
    "print(CSVDir)"
   ]
  },
  {
   "cell_type": "code",
   "execution_count": null,
   "metadata": {},
   "outputs": [],
   "source": []
  }
 ],
 "metadata": {
  "kernelspec": {
   "display_name": "Python 3 (ipykernel)",
   "language": "python",
   "name": "python3"
  },
  "language_info": {
   "codemirror_mode": {
    "name": "ipython",
    "version": 3
   },
   "file_extension": ".py",
   "mimetype": "text/x-python",
   "name": "python",
   "nbconvert_exporter": "python",
   "pygments_lexer": "ipython3",
   "version": "3.11.0"
  },
  "vscode": {
   "interpreter": {
    "hash": "8c3baee22f7aea24140d8527738ad3288fd74ddfe4eeddd8ce2c2f5be318de5e"
   }
  }
 },
 "nbformat": 4,
 "nbformat_minor": 2
}
