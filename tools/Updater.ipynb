{
 "cells": [
  {
   "cell_type": "markdown",
   "metadata": {},
   "source": [
    "## Update"
   ]
  },
  {
   "cell_type": "markdown",
   "metadata": {
    "tags": []
   },
   "source": [
    "## Initialization\n",
    "    This is the integrated update note book of the website: ArchZ (https:\\\\zaczhangzhuo.github.io\\)\n",
    "    Credit: Zac Zhuo Zhang\n",
    "\n",
    "\n",
    "**Agreements:**\n",
    "- Use hump nomenclature rule (eg. 'zDesign') for file names, code variables, compunctions tec.\n",
    "- Avoid using space in any name.\n",
    "- Possible to add multiple items in the main folder of the article, but only one .html can exist.\n",
    "- Possible to create as many sub-files as you wish under the folder of the article for storing resources.\n",
    "- Under the folder of the article, a 'images' file most be created, and the first image of the file will be the profile of the article in the menu.\n",
    "- Create a folder for each article. The name of the folder can be different from the .html file. the .html which is a sub-item of the file. \n",
    "- Only read the first two layers of the files. deep files can be used as backups.\n",
    "- Use \\ rather than /\n"
   ]
  },
  {
   "cell_type": "code",
   "execution_count": 1,
   "metadata": {
    "scrolled": false
   },
   "outputs": [
    {
     "data": {
      "application/vnd.jupyter.widget-view+json": {
       "model_id": "c33917b282ed4a13a307c74131731fd1",
       "version_major": 2,
       "version_minor": 0
      },
      "text/plain": [
       "SelectMultiple(description='MenuBarDir', disabled=True, index=(0, 1, 2, 3, 4, 5, 6, 7, 8), options=('..\\\\zHome…"
      ]
     },
     "metadata": {},
     "output_type": "display_data"
    },
    {
     "data": {
      "application/vnd.jupyter.widget-view+json": {
       "model_id": "1bad6998200b4859b505c5c8545602a8",
       "version_major": 2,
       "version_minor": 0
      },
      "text/plain": [
       "interactive(children=(ToggleButtons(button_style='info', description='ChangeUpdateMenu', index=1, options=(Tru…"
      ]
     },
     "metadata": {},
     "output_type": "display_data"
    },
    {
     "data": {
      "application/vnd.jupyter.widget-view+json": {
       "model_id": "a29382a7590f4476b198c9f303fa0f76",
       "version_major": 2,
       "version_minor": 0
      },
      "text/plain": [
       "SelectMultiple(description='MainMenuDir', disabled=True, index=(0, 1, 2, 3, 4), options=('..\\\\zDesigner\\\\zDesi…"
      ]
     },
     "metadata": {},
     "output_type": "display_data"
    },
    {
     "data": {
      "application/vnd.jupyter.widget-view+json": {
       "model_id": "29feda7f9fe94b778bec894241b75936",
       "version_major": 2,
       "version_minor": 0
      },
      "text/plain": [
       "interactive(children=(ToggleButtons(button_style='info', description='AddMDNoteBooks', index=1, options=(True,…"
      ]
     },
     "metadata": {},
     "output_type": "display_data"
    },
    {
     "data": {
      "application/vnd.jupyter.widget-view+json": {
       "model_id": "b2e9528e1d35473995ca849d7b56a500",
       "version_major": 2,
       "version_minor": 0
      },
      "text/plain": [
       "Textarea(value='', description='MDNoteBookDir:', disabled=True, placeholder='C:\\\\Zac\\\\GitHub\\\\Notes\\\\zac1.md,C…"
      ]
     },
     "metadata": {},
     "output_type": "display_data"
    },
    {
     "data": {
      "application/vnd.jupyter.widget-view+json": {
       "model_id": "58d51d34d7454f41a502f7505cd2dda1",
       "version_major": 2,
       "version_minor": 0
      },
      "text/plain": [
       "Select(description='MDExportPath', disabled=True, options=('..\\\\zDesigner', '..\\\\zLearner', '..\\\\zWriter', '..…"
      ]
     },
     "metadata": {},
     "output_type": "display_data"
    },
    {
     "data": {
      "application/vnd.jupyter.widget-view+json": {
       "model_id": "9783e72b42a14d9db8f25ffd11be2780",
       "version_major": 2,
       "version_minor": 0
      },
      "text/plain": [
       "ToggleButtons(button_style='info', description='UploadAllMenuBars', index=1, options=(True, False), tooltips=(…"
      ]
     },
     "metadata": {},
     "output_type": "display_data"
    },
    {
     "data": {
      "application/vnd.jupyter.widget-view+json": {
       "model_id": "d9c9d3e7b484419ab2064c7478d39b0d",
       "version_major": 2,
       "version_minor": 0
      },
      "text/plain": [
       "ToggleButtons(button_style='info', description='UpdateCV', index=1, options=(True, False), tooltips=('UpdateCV…"
      ]
     },
     "metadata": {},
     "output_type": "display_data"
    },
    {
     "data": {
      "application/vnd.jupyter.widget-view+json": {
       "model_id": "57417d710e024e46afe200b8b9b3cfe4",
       "version_major": 2,
       "version_minor": 0
      },
      "text/plain": [
       "ToggleButtons(button_style='info', description='UpdatePhotography', index=1, options=(True, False), tooltips=(…"
      ]
     },
     "metadata": {},
     "output_type": "display_data"
    }
   ],
   "source": [
    "import os\n",
    "from compas import json_dump\n",
    "import markdown\n",
    "from bs4 import BeautifulSoup\n",
    "from shutil import copyfile\n",
    "import ipywidgets as widgets\n",
    "import re\n",
    "import math\n",
    "\n",
    "\n",
    "theMenuBarDir = [\n",
    "    \"..\\zHome.html\",\n",
    "    \"..\\zDesigner\\zDesigner.html\",\n",
    "    \"..\\zLearner\\zLearner.html\",\n",
    "    \"..\\zWriter\\zWriter.html\",\n",
    "    \"..\\zPhotographer\\zPhotographer.html\",\n",
    "    \"..\\zIndividualDeveloper\\zIndividualDeveloper.html\",\n",
    "    \"..\\zCV.html\",\n",
    "    \"..\\zSkills.html\",\n",
    "    \"..\\zContact.html\",\n",
    "]\n",
    "MenuBarDirDisplay = widgets.SelectMultiple(\n",
    "    options=theMenuBarDir,\n",
    "    value=theMenuBarDir,\n",
    "    description=\"MenuBarDir\",\n",
    "    disabled=True,\n",
    ")\n",
    "\n",
    "\n",
    "ChangeUpdateMenu = widgets.ToggleButtons(\n",
    "    options=[True, False],\n",
    "    description=\"ChangeUpdateMenu\",\n",
    "    value=False,\n",
    "    disabled=False,\n",
    "    button_style=\"info\",  # 'success', 'info', 'warning', 'danger' or ''\n",
    "    tooltips=[\"Click true if you want to specifically update one menu page.\", \"False\"],\n",
    ")\n",
    "\n",
    "def MainMenuDirDisplayEnable(Bool):\n",
    "    MainMenuDirDisplay.disabled = not Bool\n",
    "\n",
    "mainMenuDir = [\n",
    "    \"..\\zDesigner\\zDesigner.html\",\n",
    "    \"..\\zLearner\\zLearner.html\",\n",
    "    \"..\\zWriter\\zWriter.html\",\n",
    "    \"..\\zPhotographer\\zPhotographer.html\",\n",
    "    \"..\\zIndividualDeveloper\\zIndividualDeveloper.html\",\n",
    "]\n",
    "MainMenuDirDisplay = widgets.SelectMultiple(\n",
    "    options=mainMenuDir,\n",
    "    value=mainMenuDir,\n",
    "    description=\"MainMenuDir\",\n",
    "    disabled=False,\n",
    ")\n",
    "\n",
    "\n",
    "ChangeAddMDNoteBooks = widgets.ToggleButtons(\n",
    "    options=[True, False],\n",
    "    description=\"AddMDNoteBooks\",\n",
    "    value=False,\n",
    "    disabled=False,\n",
    "    button_style=\"info\",  # 'success', 'info', 'warning', 'danger' or ''\n",
    "    tooltips=[\"Add more .md notes on the website\", \"Do not add anything\"],\n",
    ")\n",
    "\n",
    "def MDNoteBookDirDisplayEnable(Bool):\n",
    "    MDNoteBookDirDisplay.disabled = not Bool\n",
    "    MDExportPathDisplay.disabled = not Bool\n",
    "\n",
    "\n",
    "\n",
    "MDNoteBookDirDisplay   =  widgets.Textarea(\n",
    "    value='',\n",
    "    placeholder=r'C:\\Zac\\GitHub\\Notes\\zac1.md,C:\\Zac\\GitHub\\ZacZhangzhuo.github.io\\zac2.md',\n",
    "    description='MDNoteBookDir:',\n",
    "    disabled=False\n",
    ")\n",
    "\n",
    "\n",
    "MDExportPathDisplay = widgets.Select(\n",
    "    options=[r\"..\\zDesigner\",r\"..\\zLearner\",r\"..\\zWriter\",r\"..\\zPhotographer\",r\"..\\zIndividualDeveloper\",r\"..\\zShare\"],\n",
    "    description='MDExportPath',\n",
    "    disabled=False\n",
    ")\n",
    "\n",
    "ChangeUploadAllMenuBars = widgets.ToggleButtons(\n",
    "    options=[True, False],\n",
    "    description=\"UploadAllMenuBars\",\n",
    "    value=False,\n",
    "    disabled=False,\n",
    "    button_style=\"info\",  # 'success', 'info', 'warning', 'danger' or ''\n",
    "    tooltips=[\"UploadAllMenuBars\", \"Do not UploadAllMenuBars\"],\n",
    ")\n",
    "\n",
    "ChangeUpdateCV = widgets.ToggleButtons(\n",
    "    options=[True, False],\n",
    "    description=\"UpdateCV\",\n",
    "    value=False,\n",
    "    disabled=False,\n",
    "    button_style=\"info\",  # 'success', 'info', 'warning', 'danger' or ''\n",
    "    tooltips=[\"UpdateCV\", \"Do not UpdateCV\"],\n",
    ")\n",
    "\n",
    "\n",
    "ChangeUpdatePhotograph = widgets.ToggleButtons(\n",
    "    options=[True, False],\n",
    "    description=\"UpdatePhotography\",\n",
    "    value=False,\n",
    "    disabled=False,\n",
    "    button_style=\"info\",  # 'success', 'info', 'warning', 'danger' or ''\n",
    "    tooltips=[\"UpdatePhotography\", \"Do not UpdatePhotography\"],\n",
    ")\n",
    "\n",
    "\n",
    "\n",
    "display(MenuBarDirDisplay)\n",
    "widgets.interact(MainMenuDirDisplayEnable, Bool=ChangeUpdateMenu)\n",
    "display(MainMenuDirDisplay)\n",
    "widgets.interact(MDNoteBookDirDisplayEnable, Bool=ChangeAddMDNoteBooks)\n",
    "display(MDNoteBookDirDisplay,MDExportPathDisplay,ChangeUploadAllMenuBars,ChangeUpdateCV,ChangeUpdatePhotograph)\n"
   ]
  },
  {
   "cell_type": "code",
   "execution_count": 2,
   "metadata": {},
   "outputs": [],
   "source": [
    "MainMenuDir = list(MainMenuDirDisplay.value)\n",
    "MenuBarDir = list(MenuBarDirDisplay.value)\n",
    "AddMDNoteBooks = ChangeAddMDNoteBooks.value\n",
    "MDNoteBookDir = MDNoteBookDirDisplay.value.split(\",\")\n",
    "MDExportPath = MDExportPathDisplay.value\n",
    "UploadAllMenuBars = ChangeUploadAllMenuBars.value\n",
    "UpdateCV = ChangeUpdateCV.value\n",
    "UpdatePhotograph = ChangeUpdatePhotograph.value\n"
   ]
  },
  {
   "cell_type": "code",
   "execution_count": 3,
   "metadata": {},
   "outputs": [
    {
     "name": "stdout",
     "output_type": "stream",
     "text": [
      "z:ALL THE HTML FILES:\n",
      "['..\\\\index.html', '..\\\\zContact.html', '..\\\\zCV.html', '..\\\\zHome.html', '..\\\\zSkills.html', '..\\\\zDesigner\\\\zDesigner.html', '..\\\\zIndividualDeveloper\\\\zIndividualDeveloper.html', '..\\\\zLearner\\\\zLearner.html', '..\\\\zPhotographer\\\\zPhotographer.html', '..\\\\zView\\\\index.html', '..\\\\zWriter\\\\zWriter.html', '..\\\\zDesigner\\\\2020-01-10 Logo画好，就算开张了\\\\Logo画好，就算开张了.html', '..\\\\zDesigner\\\\2020-01-12 PARASITE——课程设计\\\\PARASITE——课程设计.html', '..\\\\zDesigner\\\\2020-10-30 Campus+ ——课程设计\\\\Campus+ ——课程设计.html', '..\\\\zDesigner\\\\2021-10-08 Megachain——课程设计\\\\Megachain——课程设计.html', '..\\\\zDesigner\\\\2022-05-01 Section Clipper —— 课程设计\\\\Section Clipper —— 课程设计.html', '..\\\\zDesigner\\\\30_ArduinoUselessMachine\\\\30_ArduinoUselessMachine.html', '..\\\\zDesigner\\\\31_3DPrinting\\\\31_3DPrinting.html', '..\\\\zDesigner\\\\32_EndlessWall\\\\32_EndlessWall.html', '..\\\\zDesigner\\\\ExperimentingPathPlannersforthePick-PlaceScenario\\\\ExperimentingPathPlannersforthePick-PlaceScenario.html', '..\\\\zDesigner\\\\ListChecker\\\\ListChecker.html', '..\\\\zDesigner\\\\PerformativeAi\\\\PerformativeAi.html', '..\\\\zDesigner\\\\ProbingTower\\\\ProbingTower.html', '..\\\\zDesigner\\\\RationalSketcher\\\\RationalSketcher.html', '..\\\\zDesigner\\\\SpatialGlulamStructures\\\\SpatialGlulamStructures.html', '..\\\\zIndividualDeveloper\\\\11_ScriptParasite\\\\11_ScriptParasite.html', '..\\\\zIndividualDeveloper\\\\Zorse\\\\zorse.html', '..\\\\zLearner\\\\0_RhinoGrassHopperPythonStudies\\\\0_RhinoGrassHopperPythonStudies.html', '..\\\\zLearner\\\\12_OneNoteTransmisions\\\\12_OneNoteTransmisions.html', '..\\\\zLearner\\\\13_MASdfab_MiniProject\\\\13_MASdfab_MiniProject.html', '..\\\\zLearner\\\\15_ROSStudies\\\\15_ROSStudies.html', '..\\\\zLearner\\\\16_LinuxStudies\\\\16_LinuxStudies.html', '..\\\\zLearner\\\\19_CplusplusStudies\\\\19_CplusplusStudies.html', '..\\\\zLearner\\\\1_MASdfab_Week1\\\\1_MASdfab_Week1.html', '..\\\\zLearner\\\\2020-01-13 MAYA学习——Tips小结1\\\\MAYA学习——Tips小结1.html', '..\\\\zLearner\\\\2020-01-14 MAYA学习——Tips小结2\\\\MAYA学习——Tips小结2.html', '..\\\\zLearner\\\\2020-02-17 Grasshopper-C 整理——Script\\\\Grasshopper-C 整理——Script.html', '..\\\\zLearner\\\\2020-02-18 Grasshopper-C 整理——Plugin\\\\Grasshopper-C 整理——Plugin.html', '..\\\\zLearner\\\\2020-02-19 Grasshopper-C 贪吃蛇\\\\Grasshopper-C 贪吃蛇.html', '..\\\\zLearner\\\\2020-03-02 Rhino学习——工具集\\\\Rhino学习——工具集.html', '..\\\\zLearner\\\\2020-03-24 Ameba 2D 教程\\\\Ameba 2D 教程.html', '..\\\\zLearner\\\\2020-09-08 Processing学习——Migration Coding\\\\Processing学习——Migration Coding.html', '..\\\\zLearner\\\\2021-08-14 GH - VSCode 双向联动编程——Script Parasite\\\\GH - VSCode 双向联动编程——Script Parasite.html', '..\\\\zLearner\\\\2021-10-09 Grasshopper 基础教程\\\\Grasshopper 基础教程.html', '..\\\\zLearner\\\\2022-02-13 Essential Guide to C Scripting for Grasshopper\\\\Essential Guide to C Scripting for Grasshopper.html', '..\\\\zLearner\\\\2022-09-13 Grasshopper-Python 贪吃蛇\\\\Grasshopper-Python 贪吃蛇.html', '..\\\\zLearner\\\\24_AdvancedMotionPlanningStudies\\\\24_AdvancedMotionPlanningStudies.html', '..\\\\zLearner\\\\26_RobotDynamicsStudies_1\\\\26_RobotDynamicsStudies_1.html', '..\\\\zLearner\\\\28_MoveItCameraCalibration\\\\28_MoveItCameraCalibration.html', '..\\\\zLearner\\\\2_MASdfab_Week2\\\\2_MASdfab_Week2.html', '..\\\\zLearner\\\\33_MoveitLearning\\\\33_MoveitLearning.html', '..\\\\zLearner\\\\34_MoveitLearning_2\\\\34_MoveitLearning_2.html', '..\\\\zLearner\\\\36_MoveitLearning_3\\\\36_MoveitLearning_3.html', '..\\\\zLearner\\\\3_MASdfab_Week3-4\\\\3_MASdfab_Week3-4.html', '..\\\\zLearner\\\\4_HTMLAndCSSStudies\\\\4_HTMLAndCSSStudies.html', '..\\\\zLearner\\\\5_MASdfab_Week5\\\\5_MASdfab_Week5.html', '..\\\\zLearner\\\\6_MASdfab_Week6\\\\6_MASdfab_Week6.html', '..\\\\zLearner\\\\7_MASdfab_Endless Wall\\\\7_MASdfab_Endless Wall.html', '..\\\\zLearner\\\\8_MASdfab_Endless Wall_2\\\\8_MASdfab_Endless Wall_2.html', '..\\\\zPhotographer\\\\2020-04-02 谢子龙影像艺术中心——长沙\\\\2020-04-02 谢子龙影像艺术中心——长沙.html', '..\\\\zPhotographer\\\\2020-04-02 谢子龙影像艺术中心——长沙\\\\谢子龙影像艺术中心——长沙.html', '..\\\\zPhotographer\\\\fromMadridwithLove\\\\fromMadridwithLove.html', '..\\\\zPhotographer\\\\GoldenZurichOperaHouse\\\\GoldenZurichOperaHouse.html', '..\\\\zPhotographer\\\\MunichCityCorners\\\\MunichCityCorners.html', '..\\\\zPhotographer\\\\ZahaHadidArchitects\\\\ZahaHadidArchitects.html', '..\\\\zPhotographer\\\\ZurichRapper_1\\\\ZurichRapper_1.html', '..\\\\zPhotographer\\\\ZurichRapper_2\\\\ZurichRapper_2.html', '..\\\\zPhotographer\\\\夜光城市——上海\\\\夜光城市——上海.html', '..\\\\zPhotographer\\\\新年焰火\\\\新年焰火.html', '..\\\\zPhotographer\\\\明朗城市——杭州\\\\明朗城市——杭州.html', '..\\\\zPhotographer\\\\极寒城市——雷克雅未克_1\\\\极寒城市——雷克雅未克_1.html', '..\\\\zPhotographer\\\\极寒城市——雷克雅未克_2\\\\极寒城市——雷克雅未克_2.html', '..\\\\zPhotographer\\\\水彩城市——贵州\\\\水彩城市——贵州.html', '..\\\\zPhotographer\\\\热闹城市——慕尼黑\\\\热闹城市——慕尼黑.html', '..\\\\zPhotographer\\\\细节城市——米兰\\\\细节城市——米兰.html', '..\\\\zPhotographer\\\\蓝色城市——苏黎世\\\\蓝色城市——苏黎世.html', '..\\\\zPhotographer\\\\轴线城市——北京\\\\轴线城市——北京.html', '..\\\\zPhotographer\\\\闲适城市——邓迪\\\\闲适城市——邓迪.html', '..\\\\zPhotographer\\\\魁伟城市——武汉\\\\魁伟城市——武汉.html', '..\\\\zShare\\\\AboutMyLife\\\\AboutMyLife.html', '..\\\\zShare\\\\Career\\\\Career.html', '..\\\\zWriter\\\\10_NewWebsiteAnnouncement\\\\10_NewWebsiteAnnouncement.html', '..\\\\zWriter\\\\2020-01-09 不是开天辟地，却为我的新篇\\\\不是开天辟地，却为我的新篇.html', '..\\\\zWriter\\\\2020-02-23 疫情离我们有多近\\\\疫情离我们有多近.html', '..\\\\zWriter\\\\2020-03-11 建筑思维与手机选择1\\\\建筑思维与手机选择1.html', '..\\\\zWriter\\\\2020-03-12 建筑思维与手机选择2\\\\建筑思维与手机选择2.html', '..\\\\zWriter\\\\2020-03-14 WaveDeng：你为什么需要个人网站\\\\WaveDeng：你为什么需要个人网站.html', '..\\\\zWriter\\\\2020-03-14 WaveDeng：自媒体是什么？开发者如何运用它\\\\WaveDeng：自媒体是什么？开发者如何运用它.html', '..\\\\zWriter\\\\2021-03-27 ArchZ 个人网站上线\\\\ArchZ 个人网站上线.html', '..\\\\zWriter\\\\2022-09-12 Growing, Growing, Brighter Everyday-\\\\Growing, Growing, Brighter Everyday-.html', '..\\\\zWriter\\\\22_RhinoUserMeeting\\\\22_RhinoUserMeeting.html']\n"
     ]
    }
   ],
   "source": [
    "# ------------------- Get all folder (only 3 layers): Only two file layers.\n",
    "allHtmlPaths = []\n",
    "# 1st sub folder\n",
    "fileNames1 = os.listdir(\"..\\\\\")\n",
    "temp = []\n",
    "for fileName in fileNames1:\n",
    "    if os.path.isdir(\"..\\\\\" + fileName):\n",
    "        temp.append(\"..\\\\\" + fileName)\n",
    "fileNames1 = temp\n",
    "\n",
    "# 2nd sub folder\n",
    "fileNames2 = []\n",
    "for fileName in fileNames1:\n",
    "    temp = os.listdir(fileName)\n",
    "    for t in temp:\n",
    "        if os.path.isdir(fileName + \"\\\\\" + t):\n",
    "            fileNames2.append(fileName + \"\\\\\" + t)\n",
    "\n",
    "Paths = [\"..\"]\n",
    "Paths.extend(fileNames1)\n",
    "Paths.extend(fileNames2)\n",
    "\n",
    "# Get html folders\n",
    "for Path in Paths:\n",
    "    allHtmlPaths.extend([Path + \"\\\\\" + i for i in os.listdir(Path) if i[-5:] == \".html\"])\n",
    "print(\"z:ALL THE HTML FILES:\")\n",
    "print(allHtmlPaths)\n",
    "# ------------------- Get all folder (only 3 layers): Only two file layers.\n",
    "\n",
    "\n",
    "\n",
    "\n",
    "# # Modifying recent files function\n",
    "# def modification_date(filename):\n",
    "#     t = os.path.getmtime(filename)\n",
    "#     return datetime.datetime.fromtimestamp(t).replace(microsecond=0)\n",
    "\n",
    "# def IsOnTime(startTime, endTime, Minutes = 5):\n",
    "#     d_start = datetime.datetime.strptime(startTime, \"%Y-%m-%d %H:%M:%S\")\n",
    "#     # print(d_start)\n",
    "#     d_end = datetime.datetime.strptime(endTime, \"%Y-%m-%d %H:%M:%S\")\n",
    "#     # thresholdInHour = datetime.datetime.strptime(thresholdInHour, \"%Y-%m-%d %H:%M:%S\")\n",
    "#     result = d_start + datetime.timedelta(minutes=Minutes) > d_end\n",
    "#     # print(result)\n",
    "#     return result\n",
    "\n",
    "# def ModifyRecentFile(IsModifyRecentFile, FolderPath, TimeIntervalMinutes = 5):\n",
    "#     if IsModifyRecentFile:\n",
    "#         file_paths = []\n",
    "#         current_address = os.path.dirname(FolderPath)\n",
    "#         for parent, dirnames, filenames in os.walk(current_address):\n",
    "#             # Case1: traversal the directories\n",
    "#             for dirname in dirnames:\n",
    "#                 # print(\"Parent folder:\", parent)\n",
    "#                 file_paths.append(parent + \"\\\" + dirname)\n",
    "#                 # print(\"Dirname:\", dirname)\n",
    "#                 # file_paths.append()\n",
    "#             # Case2: traversal the files\n",
    "#             for filename in filenames:\n",
    "#                 # print(\"Parent folder:\", parent)\n",
    "#                 file_paths.append(parent + \"\\\" + filename)\n",
    "#                 # print(\"Filename:\", filename)\n",
    "#                 # file_paths.append()\n",
    "\n",
    "#         html_paths = []\n",
    "#         html_times = []\n",
    "#         for file_path in file_paths:\n",
    "#             if file_path.find(\".html\") != -1:\n",
    "#                 html_paths.append(file_path)\n",
    "#                 html_times.append(modification_date(file_path))\n",
    "\n",
    "#         changed_html_paths = []\n",
    "#         for t in range(len(html_times)):\n",
    "#             if IsOnTime(\n",
    "#                 str(html_times[t]),\n",
    "#                 str(datetime.datetime.now().replace(microsecond=0)),\n",
    "#                 TimeIntervalMinutes,\n",
    "#             ):\n",
    "#                 changed_html_paths.append(html_paths[t])\n",
    "\n",
    "#         for file in changed_html_paths:\n",
    "#             print(\"z: THIS FILE WOULD BE MODIFIED: \" + file)\n",
    "\n",
    "#         return changed_html_paths\n",
    "#     else:\n",
    "#         return []"
   ]
  },
  {
   "cell_type": "markdown",
   "metadata": {},
   "source": [
    "## Menu bar updater\n",
    "\n",
    "    Only run when you want to update all the menu bars\n"
   ]
  },
  {
   "cell_type": "code",
   "execution_count": 4,
   "metadata": {},
   "outputs": [],
   "source": [
    "def AddMenuBar(htmlPath):\n",
    "    barText = '<!-- Menu Bar --><div class=\"menuBar\">'\n",
    "\n",
    "    for MenuBar in MenuBarDir:\n",
    "        barText = (\n",
    "            barText\n",
    "            + '<a href=\"'\n",
    "            + os.path.relpath(MenuBar, htmlPath)[3:]\n",
    "            + ' \" class=\"menuBar\"> <p>'\n",
    "            + MenuBar.split(\"\\\\\")[-1].replace(\".html\", \"\")\n",
    "            + \"</p></a>\"\n",
    "        )\n",
    "    \n",
    "\n",
    "    barText = barText + \"</div><!-- End of Menu Bar -->\"\n",
    "\n",
    "    # Modifying the file\n",
    "    with open(htmlPath, \"r\", encoding=\"UTF-8\") as html:\n",
    "        htmlTexts = html.read()\n",
    "    temp = htmlTexts.split(\"<!-- Menu Bar -->\")\n",
    "\n",
    "    if len(temp) == 2:\n",
    "        temp1 = temp[0]\n",
    "        temp2 = temp[1]\n",
    "        temp3 = temp2.split(\"<!-- End of Menu Bar -->\")[1]\n",
    "\n",
    "        htmlTexts = temp1 + barText + temp3\n",
    "        with open(htmlPath, \"w\", encoding=\"UTF-8\") as html:\n",
    "            html.write(htmlTexts)\n",
    "        print(\"z: MENU BAR OF THIS FILE HAS BEEN MODIFIED:\" + htmlPath)\n"
   ]
  },
  {
   "cell_type": "markdown",
   "metadata": {},
   "source": [
    "Modify all path: only run when add an item into the menu bar"
   ]
  },
  {
   "cell_type": "code",
   "execution_count": 5,
   "metadata": {},
   "outputs": [],
   "source": [
    "if UploadAllMenuBars:\n",
    "    # Operation\n",
    "    for htmlPath in allHtmlPaths:\n",
    "        # Generating menu bar html\n",
    "        AddMenuBar(htmlPath)\n",
    "        \n"
   ]
  },
  {
   "cell_type": "markdown",
   "metadata": {},
   "source": [
    "## CV updater\n",
    "    Only run if you want to update the CV"
   ]
  },
  {
   "cell_type": "code",
   "execution_count": 6,
   "metadata": {},
   "outputs": [],
   "source": [
    "\n",
    "def CVTexts(mdstr):\n",
    "    exts = ['markdown.extensions.extra', 'markdown.extensions.codehilite','markdown.extensions.tables','markdown.extensions.toc']\n",
    "\n",
    "    html = '''\n",
    "    <!DOCTYPE html><html lang=\"en\">\n",
    "    <head>\n",
    "    <!-- Google tag (gtag.js) -->\n",
    "<script async src=\"https://www.googletagmanager.com/gtag/js?id=G-4214SLX26K\"></script>\n",
    "<script>\n",
    "  window.dataLayer = window.dataLayer || [];\n",
    "  function gtag(){dataLayer.push(arguments);}\n",
    "  gtag('js', new Date());\n",
    "\n",
    "  gtag('config', 'G-4214SLX26K');\n",
    "</script>\n",
    "    <meta http-equiv=\"X-UA-Compatible\" content=\"IE=edge\" />\n",
    "    <link rel=\"stylesheet\" href=\"zMarkdownStyles.css\" />\n",
    "    <script type=\"text/javascript\" src=\"..\\..\\zFunctions.js\"></script>\n",
    "    <meta name=\"viewport\" content=\"width=device-width, initial-scale=1.0\" />\n",
    "    <title>zCV</title>\n",
    "    <link\n",
    "        href=\"https://fonts.googleapis.com/css2?family=Source+Code+Pro:ital,wght@0,200;0,300;0,400;0,500;0,600;0,700;0,800;0,900;1,200;1,300;1,500;1,600;1,700;1,800;1,900&display=swap\"\n",
    "        rel=\"stylesheet\"\n",
    "    />\n",
    "    <link rel=\"icon\" href=\"/resources/LogoIcon.png\" type=\"icon\"/>\n",
    "    </head>\n",
    "    <body>\n",
    "    <img class=\"portrait\" src=\"resources\\Zac_5.jpg\" alt=\"portrait\">\n",
    "    %s\n",
    "    </body><p class=\"endnotes\">--- Growing, Growing, Brighter Everyday ! ---</p></body>\n",
    "    </html>\n",
    "    '''\n",
    "\n",
    "    ret = markdown.markdown(mdstr,extensions=exts)\n",
    "    return html % ret\n"
   ]
  },
  {
   "cell_type": "code",
   "execution_count": 7,
   "metadata": {},
   "outputs": [],
   "source": [
    "if UpdateCV:\n",
    "    location = \"..\\zCV.md\"\n",
    "    htmlLocation = \"..\\zCV.html\"\n",
    "    md = open(location, \"r\", encoding=\"utf-8\")\n",
    "    mdTexts = md.read()\n",
    "    # print (md2html(mdTexts))\n",
    "    md.close()\n",
    "\n",
    "    html = open(htmlLocation, \"w\", encoding=\"utf-8\")\n",
    "    html.write(CVTexts(mdTexts))\n",
    "    html.close()\n",
    "    print (\"z: THIS FILE WOULD BE MODIFIED: zCV.html\")\n",
    "\n"
   ]
  },
  {
   "cell_type": "markdown",
   "metadata": {},
   "source": [
    "data for threejs and Skill.html page"
   ]
  },
  {
   "cell_type": "code",
   "execution_count": 8,
   "metadata": {},
   "outputs": [],
   "source": [
    "#Functions\n",
    "def markdown_to_dict(markdown_string):\n",
    "    # split the input string into tables\n",
    "    tables = re.split(r\"\\n\\s*\\n\", markdown_string.strip())\n",
    "    CategoryNumber = 0\n",
    "    # iterate over the tables and convert each one to a list of dictionaries\n",
    "    sonDict = []\n",
    "    fatherDict = []\n",
    "    for table in tables:\n",
    "        rows = table.split('\\n')\n",
    "        headers = [header.strip() for header in rows[0].split('|')[2:-1]]\n",
    "        headers.insert(0, \"Skill\")\n",
    "        headers.insert(0, \"Category\")\n",
    "        Category = rows[0].split('|')[1].strip()\n",
    "        fatherDict.append({\"Category\": Category})\n",
    "        for row in rows[2:-1]:\n",
    "            values = [value.strip() for value in row.split('|')[1:-1]]\n",
    "            values.insert(0, Category)\n",
    "            sonDict.append(dict(zip(headers, values)))\n",
    "    return sonDict, fatherDict\n",
    "\n",
    "##! Convert string data to points part - written by chatGBT\n",
    "def evenly_distributed_points_on_sphere(center, radius, n_points):\n",
    "    # generate n_points evenly distributed points on a sphere with radius and center point\n",
    "    phi = (1 + math.sqrt(5)) / 2.0  # golden ratio\n",
    "    theta = math.pi * (3 - math.sqrt(5))  # golden angle\n",
    "    points = []\n",
    "    for i in range(n_points):\n",
    "        y = 1 - (i / (n_points - 1)) * 2\n",
    "        radius_at_height = math.sqrt(radius**2 - y**2)\n",
    "        phi_increment = theta * i\n",
    "        x = math.cos(phi_increment) * radius_at_height\n",
    "        z = math.sin(phi_increment) * radius_at_height\n",
    "        points.append([x+center[0], y+center[1], z+center[2]])\n",
    "    return points\n",
    "\n",
    "\n",
    "# Geometric functions\n",
    "def Distance(point1, point2):\n",
    "    x = (point1[0] - point2[0])**2\n",
    "    y = (point1[1] - point2[1])**2\n",
    "    z = (point1[2] - point2[2])**2\n",
    "    return (x +y+ z)**0.5\n",
    "def Add(point1, point2):\n",
    "    return [point1[0] + point2[0], point1[1] + point2[1], point1[2] + point2[2]]\n",
    "def Minus(point1, point2):\n",
    "    return [point1[0] - point2[0], point1[1] - point2[1], point1[2] - point2[2]]\n",
    "def Unitize(vector):\n",
    "    length = (vector[0]**2 + vector[1]**2 + vector[2]**2)**0.5\n",
    "    if length > 0:\n",
    "        return [vector[0]/length, vector[1]/length, vector[2]/length]\n",
    "    else: return [0,0,0]\n",
    "def Multiply(vector, number):\n",
    "    return [vector[0]*number, vector[1]*number, vector[2]*number]\n"
   ]
  },
  {
   "cell_type": "code",
   "execution_count": 9,
   "metadata": {},
   "outputs": [],
   "source": [
    "UpdateSkillPage = UpdateCV\n",
    "\n",
    "if UpdateSkillPage:\n",
    "\n",
    "    #! Change\n",
    "    location = \"..\\zCV.md\"\n",
    "    #! Get the text from the md file\n",
    "    md = open(location, \"r\", encoding=\"utf-8\")\n",
    "    mdTexts = md.read()\n",
    "    mdTexts = mdTexts.split(\"**Professional Skills**\")\n",
    "    sonDict, fatherDict  = markdown_to_dict(mdTexts[1])\n",
    "    md.close()\n",
    "    # json_dump(mdDic, \"zCV.json\")\n",
    "\n",
    "\n",
    "\n",
    "    coreRadius = 3\n",
    "    fatherRadius = 2\n",
    "    sonRadius = 1\n",
    "    ##! Shape data\n",
    "    performanceScale = 0.8\n",
    "\n",
    "\n",
    "    for i,p in enumerate(evenly_distributed_points_on_sphere([0,0,0],coreRadius, len(fatherDict))):\n",
    "        fatherDict[i][\"Point\"] = p\n",
    "        fatherDict[i][\"Scale\"] = performanceScale\n",
    "        fatherDict[i][\"Radius\"] = fatherRadius\n",
    "        links = []\n",
    "        for j in range(len(sonDict)):\n",
    "            if sonDict[j][\"Category\"] == fatherDict[i][\"Category\"]:\n",
    "                links.append(j)\n",
    "        fatherDict[i][\"Links\"] = links\n",
    "        points = evenly_distributed_points_on_sphere(p,fatherRadius, len(fatherDict[i][\"Links\"]))\n",
    "        \n",
    "        \n",
    "        for j in sonDict:\n",
    "            if j[\"Category\"] == fatherDict[i][\"Category\"]:\n",
    "                j[\"Point\"] = points[0]\n",
    "                j[\"Scale\"] = performanceScale\n",
    "                j[\"Radius\"] = sonRadius\n",
    "                points.pop(0)\n",
    "\n",
    "\n",
    "    ##! Pass data\n",
    "    p1 = []\n",
    "    r1 = []\n",
    "    for i in fatherDict:\n",
    "        p1.append(i[\"Point\"])\n",
    "        r1.append(i[\"Radius\"])\n",
    "    p2 = []\n",
    "    r2 = []\n",
    "    for i in sonDict:\n",
    "        p2.append(i[\"Point\"])\n",
    "        r2.append(i[\"Radius\"])\n",
    "    Points = p1 + p2\n",
    "    Radiuses = r1 + r2\n",
    "\n",
    "\n",
    "\n",
    "    ##! Point Generator Part\n",
    "    maxIteration = 1000\n",
    "\n",
    "\n",
    "    for iteration in range(maxIteration):\n",
    "        totalVector = []\n",
    "        counts = []\n",
    "\n",
    "        for p in range(len(Points)):\n",
    "            totalVector.append([0,0,0])\n",
    "            counts.append(0)\n",
    "        \n",
    "        for i in range(len(Points)):\n",
    "            for j in range(i+1, len(Points)):\n",
    "\n",
    "                distance = Distance(Points[i], Points[j])\n",
    "                subVector = Minus(Points[i], Points[j])\n",
    "                subVector = Unitize(subVector)\n",
    "\n",
    "                subVector =Multiply( subVector, (Radiuses[i] + Radiuses[j] - distance))\n",
    "                if Radiuses[i] + Radiuses[j] - distance > 0:\n",
    "                    totalVector[i] = Add(totalVector[i],subVector)\n",
    "                    totalVector[j] =Minus(  totalVector[j],subVector)\n",
    "                    counts[i] += 1\n",
    "                    counts[j] += 1\n",
    "        isContinue = True\n",
    "        for k in range(len(Points)):\n",
    "            if counts[k] != 0:\n",
    "                move =Multiply( totalVector[k], 1/((float)(counts[k])))\n",
    "\n",
    "                if Distance(move,[0,0,0]) > 0.01:isContinue = False\n",
    "\n",
    "                Points[k] = Add(Points[k], move)\n",
    "        if isContinue:\n",
    "            print (\"Iteration: \" + str(iteration))\n",
    "            break\n",
    "\n",
    "    ##! Back data\n",
    "    for i in range(len(fatherDict)):\n",
    "        fatherDict[i][\"Point\"] = Points[i]\n",
    "    for j in range(len(sonDict)):\n",
    "        sonDict[j][\"Point\"] = Points[j+len(fatherDict)]\n",
    "\n",
    "    ##! Output\n",
    "    json_dump([fatherDict,sonDict], \"..\\zCV.json\")"
   ]
  },
  {
   "cell_type": "markdown",
   "metadata": {},
   "source": [
    "## MD notebook modifier\n",
    "      Only run if you just add a new .html file and wish to add menubars and endnotes on it"
   ]
  },
  {
   "cell_type": "code",
   "execution_count": 10,
   "metadata": {},
   "outputs": [
    {
     "name": "stdout",
     "output_type": "stream",
     "text": [
      "z: MENU BAR OF THIS FILE HAS BEEN MODIFIED:..\\zDesigner\\40_RapidForceFeedbackWithRTDE\\40_RapidForceFeedbackWithRTDE.html\n",
      "z:THIS .HTML FILE HAS BEEN GENERATED&MODIFIED:..\\zDesigner\\40_RapidForceFeedbackWithRTDE\\40_RapidForceFeedbackWithRTDE.html\n"
     ]
    }
   ],
   "source": [
    "\n",
    "\n",
    "def MDTexts(mdstr, title):\n",
    "    exts = [\n",
    "        \"extra\",\n",
    "        \"codehilite\",\n",
    "        \"tables\",\n",
    "        \"toc\",\n",
    "        'markdown_checklist.extension'\n",
    "    ]\n",
    "\n",
    "    html = (\n",
    "        \"\"\"\n",
    "        <!DOCTYPE html>\n",
    "    <html lang=\"en\">\n",
    "    <head>\n",
    "    <!-- Google tag (gtag.js) -->\n",
    "<script async src=\"https://www.googletagmanager.com/gtag/js?id=G-4214SLX26K\"></script>\n",
    "<script>\n",
    "  window.dataLayer = window.dataLayer || [];\n",
    "  function gtag(){dataLayer.push(arguments);}\n",
    "  gtag('js', new Date());\n",
    "\n",
    "  gtag('config', 'G-4214SLX26K');\n",
    "</script>\n",
    "    <meta charset=\"UTF-8\" />\n",
    "    <meta http-equiv=\"X-UA-Compatible\" content=\"IE=edge\"/>\n",
    "    <link rel=\"stylesheet\" href=\"..\\..\\zMarkdownStyles.css\" />\n",
    "    <script type=\"text/javascript\" src=\"..\\..\\zFunctions.js\"></script>\n",
    "    <meta name=\"viewport\" content=\"width=device-width, initial-scale=1.0\"/>\n",
    "    <title>\n",
    "    \"\"\"\n",
    "        + title\n",
    "        + \"\"\"\n",
    "    </title>\n",
    "    <link\n",
    "        href=\"https://fonts.googleapis.com/css2?family=Source+Code+Pro:ital,wght@0,200;0,300;0,400;0,500;0,600;0,700;0,800;0,900;1,200;1,300;1,500;1,600;1,700;1,800;1,900&display=swap\"\n",
    "        rel=\"stylesheet\"\n",
    "    />\n",
    "    <link rel=\"icon\" href=\"../../resources/LogoIcon.png\" type=\"image/x-icon\"/>\n",
    "    </head>\n",
    "    <body><!-- Menu Bar -->\n",
    "<!-- End of Menu Bar -->\n",
    "    %s\n",
    "    <p class=\"endnotes\">--- Growing, Growing, Brighter Everyday ! ---</p></body>\n",
    "    </html>\n",
    "    \"\"\"\n",
    "    )\n",
    "\n",
    "    ret = markdown.markdown(mdstr, extensions=exts)\n",
    "    return html % ret\n",
    "\n",
    "\n",
    "def FromMDWriteHTML(MDNoteBookDir, theMDExportPath):\n",
    "        with open(MDNoteBookDir, 'r', encoding='UTF-8') as md:\n",
    "            mdTexts = md.read()\n",
    "        \n",
    "        # Copy all the needed images\n",
    "        # from shutil import copyfile\n",
    "\n",
    "        # Change iframe\n",
    "        # mdTexts = mdTexts.replace('width=\"560\" height=\"315\" src=\"https://www.youtube', 'id=\"iframe\" onload=\"adjustIframe();\" src=\"https://www.youtube')\n",
    "        # mdTexts = <iframe id=\"iframe\" onload=\"adjustIframe();\" src=\"ModernRobotics_Chapter1.pdf#view=fitH\" title=\"PDF loader\" frameborder=\"0\" allowfullscreen></iframe>\n",
    "\n",
    "        \n",
    "        if (os.path.exists(theMDExportPath+'\\\\'+MDNoteBookDir.split('\\\\' )[-1].split('.')[0]) != True): \n",
    "            os.makedirs(theMDExportPath+'\\\\'+MDNoteBookDir.split('\\\\' )[-1].split('.')[0])\n",
    "        \n",
    "        with open(theMDExportPath+'\\\\'+MDNoteBookDir.split('\\\\' )[-1].split('.')[0]+'\\\\'+MDNoteBookDir.split('\\\\' )[-1].split('.')[0]+'.html', \"w\",encoding='UTF-8') as html:\n",
    "            html.write(MDTexts(mdTexts, MDNoteBookDir.split(\"\\\\\")[-1]))\n",
    "        \n",
    "        with open(theMDExportPath+'\\\\'+MDNoteBookDir.split('\\\\' )[-1].split('.')[0]+'\\\\'+MDNoteBookDir.split('\\\\' )[-1].split('.')[0]+'.html', \"r\",encoding='UTF-8') as html:\n",
    "            soup = BeautifulSoup(html, features='html.parser')\n",
    "        \n",
    "        for img in soup.find_all('img'):\n",
    "            if (os.path.exists(theMDExportPath+'\\\\'+MDNoteBookDir.split('\\\\' )[-1].split('.')[0]+'\\\\'+img.get('src').replace(img.get('src').split('/' )[-1], '')) != True): os.makedirs(theMDExportPath+'\\\\'+MDNoteBookDir.split('\\\\' )[-1].split('.')[0]+'\\\\'+img.get('src').replace(img.get('src').split('/' )[-1], ''))\n",
    "            if (os.path.exists(MDNoteBookDir.replace(MDNoteBookDir.split('\\\\' )[-1], '')+ '\\\\' + img.get('src')) != True):  copyfile(MDNoteBookDir.replace(MDNoteBookDir.split('\\\\' )[-1], '')+ '\\\\' + img.get('src'), theMDExportPath+'\\\\'+MDNoteBookDir.split('\\\\' )[-1].split('.')[0]+'\\\\'+img.get('src'))\n",
    "        \n",
    "        if (os.path.exists(theMDExportPath+'\\\\'+MDNoteBookDir.split('\\\\' )[-1].split('.')[0]+'\\\\images') != True): os.makedirs(theMDExportPath+'\\\\'+MDNoteBookDir.split('\\\\' )[-1].split('.')[0]+'\\\\images')\n",
    "        AddMenuBar(theMDExportPath+'\\\\'+MDNoteBookDir.split('\\\\' )[-1].split('.')[0]+'\\\\'+MDNoteBookDir.split('\\\\' )[-1].split('.')[0]+'.html')\n",
    "        print ( 'z:THIS .HTML FILE HAS BEEN GENERATED&MODIFIED:' + theMDExportPath+'\\\\'+MDNoteBookDir.split('\\\\' )[-1].split('.')[0]+'\\\\'+MDNoteBookDir.split('\\\\' )[-1].split('.')[0]+'.html')\n",
    "\n",
    "\n",
    "\n",
    "if AddMDNoteBooks:\n",
    "    for d in MDNoteBookDir:\n",
    "        FromMDWriteHTML(d,MDExportPath)\n",
    "\n"
   ]
  },
  {
   "cell_type": "markdown",
   "metadata": {},
   "source": [
    "## zPhotographer updater\n",
    "        Only run if you want to add some new photocopies.\n",
    "        It is more a .md writer"
   ]
  },
  {
   "cell_type": "code",
   "execution_count": 11,
   "metadata": {},
   "outputs": [],
   "source": [
    "zPhotographerPath = \"..\\\\zPhotographer\\\\\"\n",
    "\n",
    "\n",
    "def MDWriter(mdLocation):\n",
    "    # Get image paths and write .md\n",
    "    imagePaths = []\n",
    "    MDtexts = \"# \" + mdLocation.split(\"\\\\\")[-1] + \"\\n\\n\"\n",
    "    for i in os.listdir(mdLocation + \"\\\\images\"):\n",
    "        if i.endswith((\".jpg\", \".png\", \".jpeg\")):\n",
    "            imagePaths.append(\"\\\\images\\\\\" + i)\n",
    "            MDtexts = MDtexts + \"![images](\" + \"images/\" + i + \")\\n\\n\"\n",
    "    # TODO\n",
    "\n",
    "    if os.path.exists(mdLocation + \"\\\\\" + mdLocation.split(\"\\\\\")[-1] + \".md\") != True:\n",
    "        with open(\n",
    "            mdLocation + \"\\\\\" + mdLocation.split(\"\\\\\")[-1] + \".md\", \"w\", encoding=\"UTF-8\"\n",
    "        ) as md:\n",
    "            md.write(MDtexts)\n",
    "        FromMDWriteHTML(mdLocation + \"\\\\\" + mdLocation.split(\"\\\\\")[-1] + \".md\", zPhotographerPath)\n"
   ]
  },
  {
   "cell_type": "code",
   "execution_count": 12,
   "metadata": {},
   "outputs": [],
   "source": [
    "\n",
    "\n",
    "if UpdatePhotograph:\n",
    "    PhotographyPaths = os.listdir(zPhotographerPath)\n",
    "    temp = []\n",
    "    for PhotographyPath in PhotographyPaths:\n",
    "        if os.path.isdir( zPhotographerPath + PhotographyPath):\n",
    "            MDWriter(zPhotographerPath +PhotographyPath)\n",
    "            \n"
   ]
  },
  {
   "cell_type": "markdown",
   "metadata": {},
   "source": [
    "## Main menu updater\n",
    "        Detect the all the sub-folders and only changed if needed"
   ]
  },
  {
   "cell_type": "code",
   "execution_count": 13,
   "metadata": {},
   "outputs": [],
   "source": [
    "\n",
    "for m in MainMenuDir:\n",
    "    name = m.split(\"\\\\\")[-2]\n",
    "    theHtmlPaths = []\n",
    "\n",
    "    html = open(m, \"r\", encoding=\"utf-8\")\n",
    "    htmlTexts = html.read()\n",
    "    allOutStrings = \"\"\n",
    "\n",
    "    for p in allHtmlPaths:\n",
    "        if len(p.split(name)) == 2:\n",
    "            if htmlTexts.find(p.split(\"\\\\\")[-1]) == -1:      \n",
    "                try:\n",
    "                    if len(os.listdir(os.path.dirname(p) + \"\\\\images\")) == 0: \n",
    "                        imagePath = name + \"x..\\\\resources\\\\Cover.jpg\"\n",
    "                    for file in os.listdir(os.path.dirname(p) + \"\\\\images\"):\n",
    "                            if file.endswith((\".jpg\", \".png\", \".jpeg\")):\n",
    "                                imagePath = os.path.dirname(p) + \"\\\\images\\\\\" + file\n",
    "                                break\n",
    "                except:\n",
    "                    imagePath = name + \"x..\\\\resources\\\\Cover.jpg\"\n",
    "\n",
    "                outString = ''\n",
    "                str1 = '<div class = \"item\"><a href=\"'\n",
    "                str2 = os.path.relpath(p, m)[3:]\n",
    "                str3 = '\">'\n",
    "                str4 = '<img  class=\"item_image\" src=\"'\n",
    "                str5 = imagePath.split(name)[1][1:] + '\" alt=\"'\n",
    "                str6 = os.path.relpath(p, m)[3:]\n",
    "                str7 = '\"><p class = \"item_name\">'\n",
    "                str8 =  str2.split(\"\\\\\")[-1].replace(\".html\", \"\")\n",
    "                str9 = '</p></a></div>'\n",
    "                outString = outString + str1 + str2 + str3 + str4 + str5 + str6 + str7+ str8 + str9\n",
    "                allOutStrings = outString + allOutStrings\n",
    "                print(\"z: THIS ITEM: \" + p + \"    WILL BE ADDED IN THE MENU:\" + m)\n",
    "\n",
    "    if len(allOutStrings) > 0:\n",
    "        temp = htmlTexts.split(\"<!--! ADD NEW ARTICLE HERE -->\")\n",
    "        with open(m, \"w\", encoding=\"UTF-8\") as html:\n",
    "            html.write(temp[0] + \"<!--! ADD NEW ARTICLE HERE -->\" +allOutStrings + temp[1])\n"
   ]
  },
  {
   "cell_type": "code",
   "execution_count": null,
   "metadata": {},
   "outputs": [],
   "source": []
  },
  {
   "cell_type": "code",
   "execution_count": null,
   "metadata": {},
   "outputs": [],
   "source": []
  },
  {
   "cell_type": "code",
   "execution_count": null,
   "metadata": {},
   "outputs": [],
   "source": []
  },
  {
   "cell_type": "code",
   "execution_count": null,
   "metadata": {},
   "outputs": [],
   "source": []
  }
 ],
 "metadata": {
  "kernelspec": {
   "display_name": "Python 3 (ipykernel)",
   "language": "python",
   "name": "python3"
  },
  "language_info": {
   "codemirror_mode": {
    "name": "ipython",
    "version": 3
   },
   "file_extension": ".py",
   "mimetype": "text/x-python",
   "name": "python",
   "nbconvert_exporter": "python",
   "pygments_lexer": "ipython3",
   "version": "3.11.0"
  },
  "vscode": {
   "interpreter": {
    "hash": "98fdba2d9ee1ab1daa0549c077dc119116b5489c639a456769f1e2a63dbaff4b"
   }
  }
 },
 "nbformat": 4,
 "nbformat_minor": 2
}
